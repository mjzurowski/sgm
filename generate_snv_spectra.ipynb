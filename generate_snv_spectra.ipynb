{
 "cells": [
  {
   "cell_type": "code",
   "execution_count": 1,
   "id": "f9729a3f",
   "metadata": {
    "tags": []
   },
   "outputs": [],
   "source": [
    "import numpy as np\n",
    "import scipy.integrate as integrate\n",
    "import matplotlib.pyplot as plt\n",
    "\n",
    "from models.neutrinos.supernova_neutrino import SupernovaNeutrino\n",
    "from detectors.sabre_veto import SABREVeto\n",
    "from constants import *\n",
    "\n",
    "from scipy import stats\n",
    "\n",
    "import multihist as mh\n",
    "import pickle as pkl\n",
    "\n",
    "from copy import deepcopy"
   ]
  },
  {
   "cell_type": "code",
   "execution_count": 2,
   "id": "b3106a22",
   "metadata": {
    "tags": []
   },
   "outputs": [],
   "source": [
    "Det = SABREVeto()\n",
    "Model = SupernovaNeutrino()"
   ]
  },
  {
   "cell_type": "code",
   "execution_count": 3,
   "id": "6ae0290b-7b7c-444b-8073-05ff8687dd80",
   "metadata": {
    "tags": []
   },
   "outputs": [],
   "source": [
    "energy_edges = np.linspace(0., 50., 1001)\n",
    "energy_centers = 0.5 * (energy_edges[1:] + energy_edges[:-1])\n",
    "\n",
    "energy_centers_eV = energy_centers * MeV"
   ]
  },
  {
   "cell_type": "code",
   "execution_count": 4,
   "id": "177e12c0-9a38-4335-8e1d-11ac5af649e1",
   "metadata": {},
   "outputs": [],
   "source": [
    "rate_centers_IBD = np.array([Det.dRdE_True(e, Model.dRdER, \n",
    "                                           channel='IBD', source='supernova_e', per_proton=True,\n",
    "                                           E_ave=12*MeV) for e in energy_centers_eV])"
   ]
  },
  {
   "cell_type": "code",
   "execution_count": 5,
   "id": "018fcbd9-9932-48a1-8d3e-e225132320e3",
   "metadata": {},
   "outputs": [],
   "source": [
    "rate_centers_pES_e = np.array([Det.dRdE_True(e, Model.dRdER, \n",
    "                                             channel='pES', source='supernova_e', per_proton=True,\n",
    "                                             E_ave=12*MeV, NR=True) for e in energy_centers_eV])\n",
    "rate_centers_pES_ea = np.array([Det.dRdE_True(e, Model.dRdER, \n",
    "                                              channel='pES', source='supernova_ea', per_proton=True,\n",
    "                                              E_ave=14*MeV, NR=True) for e in energy_centers_eV])\n",
    "rate_centers_pES_mu = np.array([Det.dRdE_True(e, Model.dRdER, \n",
    "                                              channel='pES', source='supernova_mu', per_proton=True,\n",
    "                                              E_ave=16*MeV, NR=True) for e in energy_centers_eV])\n",
    "\n",
    "rate_centers_pES = rate_centers_pES_e + rate_centers_pES_ea + 4. * rate_centers_pES_mu"
   ]
  },
  {
   "cell_type": "code",
   "execution_count": 6,
   "id": "3bca5705-5483-4361-b1d6-8cb9c565de63",
   "metadata": {
    "tags": []
   },
   "outputs": [],
   "source": [
    "rate_centers_pES_e = np.array([Det.dRdE_True(e, Model.dRdER, \n",
    "                                             channel='pES', source='supernova_e', per_proton=True,\n",
    "                                             E_ave=12*MeV, NR=True) for e in energy_centers_eV])\n",
    "rate_centers_pES_ea = np.array([Det.dRdE_True(e, Model.dRdER, \n",
    "                                              channel='pES', source='supernova_ea', per_proton=True,\n",
    "                                              E_ave=14*MeV, NR=True) for e in energy_centers_eV])\n",
    "rate_centers_pES_mu = np.array([Det.dRdE_True(e, Model.dRdER, \n",
    "                                              channel='pES', source='supernova_mu', per_proton=True,\n",
    "                                              E_ave=16*MeV, NR=True) for e in energy_centers_eV])\n",
    "\n",
    "rate_centers_pES = rate_centers_pES_e + rate_centers_pES_ea + 4. * rate_centers_pES_mu"
   ]
  },
  {
   "cell_type": "code",
   "execution_count": 7,
   "id": "bcb41233-119a-460d-93f9-584369990c1c",
   "metadata": {},
   "outputs": [],
   "source": [
    "rate_centers_eES_e = np.array([Det.dRdE_True(e, Model.dRdER, \n",
    "                                             channel='eES', source='supernova_e', per_electron=True,\n",
    "                                             E_ave=12*MeV) for e in energy_centers_eV])\n",
    "rate_centers_eES_ea = np.array([Det.dRdE_True(e, Model.dRdER, \n",
    "                                              channel='eES', source='supernova_ea', per_electron=True,\n",
    "                                              E_ave=14*MeV) for e in energy_centers_eV])\n",
    "rate_centers_eES_mu = np.array([Det.dRdE_True(e, Model.dRdER, \n",
    "                                              channel='eES', source='supernova_mu', per_electron=True,\n",
    "                                              E_ave=16*MeV) for e in energy_centers_eV])\n",
    "rate_centers_eES_mua = np.array([Det.dRdE_True(e, Model.dRdER, \n",
    "                                               channel='eES', source='supernova_mua', per_electron=True,\n",
    "                                               E_ave=16*MeV) for e in energy_centers_eV])\n",
    "\n",
    "rate_centers_eES = rate_centers_eES_e + rate_centers_eES_ea + 2. * rate_centers_eES_mu + 2. * rate_centers_eES_mua"
   ]
  },
  {
   "cell_type": "code",
   "execution_count": 8,
   "id": "d61c5dbb-8398-4060-aa10-ffbbe2225a2a",
   "metadata": {
    "tags": []
   },
   "outputs": [],
   "source": [
    "rate_C12_e = Det.dRdE_True(None, Model.dRdER, \n",
    "                           channel='C12_NC', source='supernova_e', per_carbon=True,\n",
    "                           E_ave=12*MeV)\n",
    "rate_C12_ea = Det.dRdE_True(None, Model.dRdER, \n",
    "                            channel='C12_NC', source='supernova_ea', per_carbon=True,\n",
    "                            E_ave=14*MeV)\n",
    "rate_C12_mu = Det.dRdE_True(None, Model.dRdER, \n",
    "                            channel='C12_NC', source='supernova_mu', per_carbon=True,\n",
    "                            E_ave=16*MeV)\n",
    "\n",
    "rate_C12 = rate_C12_e + rate_C12_ea + 4. * rate_C12_mu\n",
    "\n",
    "rate_centers_C12 = rate_C12 * Det.Res(energy_centers, w_value_C12_M1 / MeV)"
   ]
  },
  {
   "cell_type": "code",
   "execution_count": 9,
   "id": "f0bd2f5a-8889-43bd-8623-0bfcb98635b4",
   "metadata": {
    "tags": []
   },
   "outputs": [],
   "source": [
    "hist_IBD = mh.Histdd.from_histogram(histogram=rate_centers_IBD, bin_edges=[energy_edges])\n",
    "hist_pES = mh.Histdd.from_histogram(histogram=rate_centers_pES, bin_edges=[energy_edges])\n",
    "hist_eES = mh.Histdd.from_histogram(histogram=rate_centers_eES, bin_edges=[energy_edges])\n",
    "hist_smeared_C12 = mh.Histdd.from_histogram(histogram=rate_centers_C12, bin_edges=[energy_edges])"
   ]
  },
  {
   "cell_type": "code",
   "execution_count": 10,
   "id": "e1cb62e7-95de-43d5-a4d9-48c033b471a9",
   "metadata": {
    "tags": []
   },
   "outputs": [],
   "source": [
    "def smear_hist(hist_unsmeared):\n",
    "    sample = hist_unsmeared.get_random(int(1e7))[:, 0]\n",
    "    sample_smear = stats.norm.rvs(loc=sample, scale=(Det.DeltaE(sample)))\n",
    "    \n",
    "    hist_smeared = np.histogram(sample_smear, bins=energy_edges)[0]\n",
    "    hist_smeared = mh.Histdd.from_histogram(histogram=hist_smeared, bin_edges=[energy_edges])\n",
    "\n",
    "    normalisation_unsmeared = (hist_unsmeared * hist_unsmeared.bin_volumes()).n\n",
    "    fractional_loss = hist_smeared.n / len(sample_smear)\n",
    "\n",
    "    hist_smeared.histogram = hist_smeared.histogram / (hist_smeared * hist_smeared.bin_volumes()).n * normalisation_unsmeared * fractional_loss\n",
    "    \n",
    "    return hist_smeared"
   ]
  },
  {
   "cell_type": "code",
   "execution_count": 11,
   "id": "6780d69a-cbb2-49ca-b4eb-ad49db85d4d7",
   "metadata": {
    "tags": []
   },
   "outputs": [],
   "source": [
    "def apply_effs(hist, coincidence='2fold'):\n",
    "    hist_eff = deepcopy(hist)\n",
    "    \n",
    "    energy_edges = hist_eff.bin_edges[0]\n",
    "    energy_centers = 0.5 * (energy_edges[1:] + energy_edges[:-1])\n",
    "    \n",
    "    effs = Det.Eff(energy_centers, coincidence=coincidence)\n",
    "    \n",
    "    hist_eff.histogram = hist_eff.histogram * effs\n",
    "    \n",
    "    return hist_eff"
   ]
  },
  {
   "cell_type": "code",
   "execution_count": 12,
   "id": "e0c53f5d-f8ca-4ad9-bc4b-c7d3666c8f23",
   "metadata": {
    "tags": []
   },
   "outputs": [],
   "source": [
    "hist_smeared_IBD = smear_hist(hist_IBD)\n",
    "hist_smeared_effs_IBD = apply_effs(hist_smeared_IBD, coincidence='1fold')\n",
    "\n",
    "hist_smeared_pES = smear_hist(hist_pES)\n",
    "hist_smeared_effs_pES = apply_effs(hist_smeared_pES, coincidence='1fold')\n",
    "\n",
    "hist_smeared_eES = smear_hist(hist_eES)\n",
    "hist_smeared_effs_eES = apply_effs(hist_smeared_eES, coincidence='1fold')\n",
    "\n",
    "hist_smeared_effs_C12 = apply_effs(hist_smeared_C12, coincidence='1fold')\n",
    "\n",
    "hist_sum = deepcopy(hist_smeared_effs_IBD)\n",
    "\n",
    "hist_sum.histogram = hist_smeared_effs_IBD.histogram + hist_smeared_effs_pES.histogram + hist_smeared_effs_eES.histogram + hist_smeared_effs_C12.histogram\n",
    "\n",
    "pkl.dump(hist_sum, open('SNV_1fold.pkl', 'wb'))"
   ]
  },
  {
   "cell_type": "code",
   "execution_count": 13,
   "id": "a5c14792-17fc-4ef3-bc72-b43fc0d888ff",
   "metadata": {
    "tags": []
   },
   "outputs": [],
   "source": [
    "hist_smeared_IBD = smear_hist(hist_IBD)\n",
    "hist_smeared_effs_IBD = apply_effs(hist_smeared_IBD, coincidence='2fold')\n",
    "\n",
    "hist_smeared_pES = smear_hist(hist_pES)\n",
    "hist_smeared_effs_pES = apply_effs(hist_smeared_pES, coincidence='2fold')\n",
    "\n",
    "hist_smeared_eES = smear_hist(hist_eES)\n",
    "hist_smeared_effs_eES = apply_effs(hist_smeared_eES, coincidence='2fold')\n",
    "\n",
    "hist_smeared_effs_C12 = apply_effs(hist_smeared_C12, coincidence='2fold')\n",
    "\n",
    "hist_sum = deepcopy(hist_smeared_effs_IBD)\n",
    "\n",
    "hist_sum.histogram = hist_smeared_effs_IBD.histogram + hist_smeared_effs_pES.histogram + hist_smeared_effs_eES.histogram + hist_smeared_effs_C12.histogram\n",
    "\n",
    "pkl.dump(hist_sum, open('SNV_2fold.pkl', 'wb'))"
   ]
  },
  {
   "cell_type": "code",
   "execution_count": null,
   "id": "10134b7e-6aa0-48f8-a6cc-4a83fc916b7b",
   "metadata": {},
   "outputs": [],
   "source": []
  }
 ],
 "metadata": {
  "kernelspec": {
   "display_name": "flamedisx",
   "language": "python",
   "name": "flamedisx"
  },
  "language_info": {
   "codemirror_mode": {
    "name": "ipython",
    "version": 3
   },
   "file_extension": ".py",
   "mimetype": "text/x-python",
   "name": "python",
   "nbconvert_exporter": "python",
   "pygments_lexer": "ipython3",
   "version": "3.11.5"
  }
 },
 "nbformat": 4,
 "nbformat_minor": 5
}
