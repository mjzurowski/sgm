{
 "cells": [
  {
   "cell_type": "code",
   "execution_count": null,
   "id": "f9729a3f",
   "metadata": {
    "tags": []
   },
   "outputs": [],
   "source": [
    "import numpy as np\n",
    "import scipy.integrate as integrate\n",
    "import matplotlib.pyplot as plt\n",
    "\n",
    "from models.wimp import SIWIMP_Helm\n",
    "from detectors.sabre import SABRE\n",
    "from veldists import VelDist\n",
    "from constants import *\n",
    "\n",
    "import multihist as mh\n",
    "import pickle as pkl"
   ]
  },
  {
   "cell_type": "code",
   "execution_count": null,
   "id": "b3106a22",
   "metadata": {
    "tags": []
   },
   "outputs": [],
   "source": [
    "Det = SABRE()\n",
    "Model = SIWIMP_Helm()\n",
    "Dist = VelDist(\"avSHM\", 0.3)"
   ]
  },
  {
   "cell_type": "code",
   "execution_count": null,
   "id": "540e4978-e680-4bfa-bc81-1619dc23d6ff",
   "metadata": {},
   "outputs": [],
   "source": [
    "masses = np.geomspace(3, 1000, 20)\n",
    "masses = np.array([int(m) for m in masses])\n",
    "ref_xsec = 1e-41"
   ]
  },
  {
   "cell_type": "code",
   "execution_count": null,
   "id": "33960647",
   "metadata": {
    "tags": []
   },
   "outputs": [],
   "source": [
    "for mass in masses:\n",
    "    energy_edges = np.arange(1., 6.05, 0.05)\n",
    "    rate_edges = np.array([Det.dRdE(e, Model.dRdER, mX=mass*GeV, sig=ref_xsec, VelDist=Dist, DE=0.01) for e in energy_edges])\n",
    "    rate_centers = 0.5 * (rate_edges[1:] + rate_edges[:-1])\n",
    "    hist = mh.Histdd.from_histogram(histogram=rate_centers, bin_edges=[energy_edges])\n",
    "    \n",
    "    pkl.dump(hist, open(f'WIMP_{mass}.pkl', 'wb'))"
   ]
  },
  {
   "cell_type": "code",
   "execution_count": null,
   "id": "dd7c4062",
   "metadata": {},
   "outputs": [],
   "source": []
  }
 ],
 "metadata": {
  "kernelspec": {
   "display_name": "flamedisx",
   "language": "python",
   "name": "flamedisx"
  },
  "language_info": {
   "codemirror_mode": {
    "name": "ipython",
    "version": 3
   },
   "file_extension": ".py",
   "mimetype": "text/x-python",
   "name": "python",
   "nbconvert_exporter": "python",
   "pygments_lexer": "ipython3",
   "version": "3.11.5"
  }
 },
 "nbformat": 4,
 "nbformat_minor": 5
}
