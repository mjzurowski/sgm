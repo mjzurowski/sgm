{
 "cells": [
  {
   "cell_type": "code",
   "execution_count": 1,
   "id": "f9729a3f",
   "metadata": {
    "tags": []
   },
   "outputs": [],
   "source": [
    "import numpy as np\n",
    "import scipy.integrate as integrate\n",
    "import matplotlib.pyplot as plt\n",
    "\n",
    "from models.migdal import Migdal\n",
    "from detectors.sabre import SABRE\n",
    "from veldists import VelDist\n",
    "from constants import *\n",
    "\n",
    "from scipy import stats\n",
    "\n",
    "import multihist as mh\n",
    "import pickle as pkl"
   ]
  },
  {
   "cell_type": "code",
   "execution_count": 2,
   "id": "2828e47e-e174-4538-8913-f44edeade8f7",
   "metadata": {},
   "outputs": [],
   "source": [
    "def smearing_fn(energy):\n",
    "    return np.sqrt(energy / 1000.) * 0.014 * 1000."
   ]
  },
  {
   "cell_type": "code",
   "execution_count": 3,
   "id": "b3106a22",
   "metadata": {
    "tags": []
   },
   "outputs": [],
   "source": [
    "Det = SABRE()\n",
    "Model = Migdal()\n",
    "Dist = VelDist(\"avSHM\", 0.3)"
   ]
  },
  {
   "cell_type": "code",
   "execution_count": 4,
   "id": "540e4978-e680-4bfa-bc81-1619dc23d6ff",
   "metadata": {},
   "outputs": [],
   "source": [
    "# masses_MeV = np.geomspace(200, 3000, 20)\n",
    "masses_MeV = np.geomspace(50, 3000, 20)\n",
    "\n",
    "masses_MeV = np.array([int(m) for m in masses_MeV])\n",
    "ref_xsec = 1e-36"
   ]
  },
  {
   "cell_type": "code",
   "execution_count": 5,
   "id": "ab6e8ba7-1192-4afe-be5f-d32a39afccbc",
   "metadata": {
    "tags": []
   },
   "outputs": [],
   "source": [
    "# binning = np.arange(1., 2.05, 0.05)\n",
    "binning = np.arange(0.5, 2.05, 0.05)"
   ]
  },
  {
   "cell_type": "code",
   "execution_count": 6,
   "id": "33960647",
   "metadata": {
    "tags": []
   },
   "outputs": [],
   "source": [
    "for mass in masses_MeV:\n",
    "    energy_edges_unsmeared = np.arange(0.01, 2., 0.01)\n",
    "    rate_edges_unsmeared = np.array([Det.dRdE_True(e, Model.dRdER, mX=mass*MeV, sig=ref_xsec, VelDist=Dist,\n",
    "                                                   NR=False,\n",
    "                                                   SI=False, cp=1, cn=0, jx=1/2) for e in energy_edges_unsmeared])\n",
    "    rate_centers_unsmeared = 0.5 * (rate_edges_unsmeared[1:] + rate_edges_unsmeared[:-1])\n",
    "    hist_unsmeared = mh.Histdd.from_histogram(histogram=rate_centers_unsmeared, bin_edges=[energy_edges_unsmeared])\n",
    "    \n",
    "    sample = hist_unsmeared.get_random(int(1e7))[:, 0]\n",
    "    sample_smear = stats.norm.rvs(loc=sample, scale=(smearing_fn(sample)))\n",
    "\n",
    "    hist_smeared = np.histogram(sample_smear, bins=binning)[0]\n",
    "    hist_smeared = mh.Histdd.from_histogram(histogram=hist_smeared, bin_edges=[binning])\n",
    "    \n",
    "    normalisation_unsmeared = (hist_unsmeared * hist_unsmeared.bin_volumes()).n\n",
    "    fractional_loss = hist_smeared.n / len(sample_smear)\n",
    "    \n",
    "    hist_smeared.histogram = hist_smeared.histogram / (hist_smeared * hist_smeared.bin_volumes()).n * normalisation_unsmeared * fractional_loss\n",
    "    \n",
    "    pkl.dump(hist_smeared, open(f'SDWIMPMigdal_{mass}.pkl', 'wb'))"
   ]
  },
  {
   "cell_type": "code",
   "execution_count": null,
   "id": "dd7c4062",
   "metadata": {},
   "outputs": [],
   "source": []
  }
 ],
 "metadata": {
  "kernelspec": {
   "display_name": "flamedisx",
   "language": "python",
   "name": "flamedisx"
  },
  "language_info": {
   "codemirror_mode": {
    "name": "ipython",
    "version": 3
   },
   "file_extension": ".py",
   "mimetype": "text/x-python",
   "name": "python",
   "nbconvert_exporter": "python",
   "pygments_lexer": "ipython3",
   "version": "3.11.5"
  }
 },
 "nbformat": 4,
 "nbformat_minor": 5
}
