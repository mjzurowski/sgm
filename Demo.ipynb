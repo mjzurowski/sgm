{
 "cells": [
  {
   "cell_type": "code",
   "execution_count": 1,
   "id": "f9729a3f",
   "metadata": {},
   "outputs": [],
   "source": [
    "import numpy as np\n",
    "import scipy.integrate as integrate\n",
    "import matplotlib.pyplot as plt\n",
    "%matplotlib inline\n",
    "\n",
    "from models.wimp import SIWIMP\n",
    "from models.wimp import SIWIMP_Helm\n",
    "from detectors.nai import DAMA\n",
    "from veldists import VelDist"
   ]
  },
  {
   "cell_type": "code",
   "execution_count": 6,
   "id": "b3106a22",
   "metadata": {},
   "outputs": [],
   "source": [
    "## Step 1\n",
    "Det = DAMA()\n",
    "Model = SIWIMP()\n",
    "Model2 = SIWIMP_Helm()\n",
    "Dist = VelDist(\"modgSHM\",0.3)"
   ]
  },
  {
   "cell_type": "code",
   "execution_count": 7,
   "id": "386b1a8c",
   "metadata": {},
   "outputs": [],
   "source": [
    "## Step 2\n",
    "mX = 7.8E9 # eV\n",
    "sig = 2*1.8E-40 # cm2   ## Extra factor of 2 is to get from sigma_p (reported in my thesis) and sigma_N (what is assumed for this calc)\n",
    "def DMRate(T,E):\n",
    "    return Model.dRdER(T,mX,E,sig,Dist)\n",
    "\n",
    "def DMRate2(T,E):\n",
    "    return Model2.dRdER(T,mX,E,sig/2,Dist) ## remove factor of 2 as we input sigma_p directly."
   ]
  },
  {
   "cell_type": "code",
   "execution_count": 8,
   "id": "33960647",
   "metadata": {},
   "outputs": [
    {
     "name": "stderr",
     "output_type": "stream",
     "text": [
      "/Users/madeleinezurowski/Documents/sensitivity_dev/sgm/detector.py:101: IntegrationWarning: The occurrence of roundoff error is detected, which prevents \n",
      "  the requested tolerance from being achieved.  The error may be \n",
      "  underestimated.\n",
      "  integral = integrate.quad(lambda E2: self.dRdE_True(Model,E2)*self.Res(E,E2),0,2*self.Emax(),points=self.ROI(),limit=int(1E8))[0] ## this integral could probs be optimised\n",
      "/Users/madeleinezurowski/Documents/sensitivity_dev/sgm/detector.py:101: IntegrationWarning: The occurrence of roundoff error is detected, which prevents \n",
      "  the requested tolerance from being achieved.  The error may be \n",
      "  underestimated.\n",
      "  integral = integrate.quad(lambda E2: self.dRdE_True(Model,E2)*self.Res(E,E2),0,2*self.Emax(),points=self.ROI(),limit=int(1E8))[0] ## this integral could probs be optimised\n"
     ]
    },
    {
     "data": {
      "image/png": "[encoded data removed]",
      "text/plain": [
       "<Figure size 432x288 with 1 Axes>"
      ]
     },
     "metadata": {
      "needs_background": "light"
     },
     "output_type": "display_data"
    }
   ],
   "source": [
    "## Step 3\n",
    "E = np.arange(0,16,0.1)\n",
    "plt.plot(E,[Det.dRdE(DMRate,e)*23/(127+23) for e in E])\n",
    "plt.plot(E,[Det.dRdE(DMRate2,e)*23/(127+23) for e in E],\"-.\")\n",
    "plt.xlim(0,16)\n",
    "plt.ylim(0,0.026)\n",
    "plt.grid()\n",
    "plt.show()"
   ]
  },
  {
   "cell_type": "code",
   "execution_count": null,
   "id": "c6a1ba75",
   "metadata": {},
   "outputs": [],
   "source": []
  }
 ],
 "metadata": {
  "kernelspec": {
   "display_name": "Python 3 (ipykernel)",
   "language": "python",
   "name": "python3"
  },
  "language_info": {
   "codemirror_mode": {
    "name": "ipython",
    "version": 3
   },
   "file_extension": ".py",
   "mimetype": "text/x-python",
   "name": "python",
   "nbconvert_exporter": "python",
   "pygments_lexer": "ipython3",
   "version": "3.9.7"
  }
 },
 "nbformat": 4,
 "nbformat_minor": 5
}
