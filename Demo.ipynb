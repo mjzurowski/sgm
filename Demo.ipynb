{
 "cells": [
  {
   "cell_type": "code",
   "execution_count": 9,
   "id": "f9729a3f",
   "metadata": {},
   "outputs": [],
   "source": [
    "import numpy as np\n",
    "import scipy.integrate as integrate\n",
    "import matplotlib.pyplot as plt\n",
    "%matplotlib inline\n",
    "\n",
    "\n",
    "from models.wimp import SIWIMP\n",
    "from models.wimp import SIWIMP_Helm\n",
    "from models.migdal import MIGDAL\n",
    "from models.inelastic import SIInel\n",
    "from detectors.nai import DAMA, NA, Io\n",
    "from veldists import VelDist\n",
    "from constants import *"
   ]
  },
  {
   "cell_type": "code",
   "execution_count": 10,
   "id": "b3106a22",
   "metadata": {},
   "outputs": [],
   "source": [
    "## Step 1\n",
    "DetNA = NA()\n",
    "DetI = Io()\n",
    "Det = DAMA()\n",
    "\n",
    "Model1 = SIWIMP()\n",
    "Model2 = SIInel()\n",
    "Model3 = MIGDAL()\n",
    "Dist = VelDist(\"modSHM\",0.3) # standard halo model\n",
    "Dist2 = VelDist(\"modShards\",0.3) # standard halo model + shards\n",
    "Dist3 = VelDist(\"avSHM\",0.3)"
   ]
  },
  {
   "cell_type": "code",
   "execution_count": null,
   "id": "33960647",
   "metadata": {},
   "outputs": [],
   "source": [
    "## Step 2 \n",
    "E = np.arange(0,16,0.1) # observed energy, units of keV_ee\n",
    "plt.plot(E,[Det.dRdE(e,Model1.dRdER,mX=62*GeV,sig=1.1E-41,VelDist=Dist) for e in E]) ## note here you can pass the model variables as kwargs\n",
    "plt.plot(E,[Det.dRdE(e,Model2.dRdER,mX=62*GeV,sig=1.1E-41,VelDist=Dist,delta=20*keV) for e in E]) ## note here you can pass the model variables as kwargs\n",
    "plt.legend([\"SHM, delta=0\",\"SHM, delta=20 keV\"])\n",
    "plt.ylabel(r\"Observation rate [cpd/kg/keV$_{\\rm ee}$]\")\n",
    "plt.xlabel(r\"Energy [keV$_{\\rm ee}$]\")\n",
    "plt.xlim(0,16)\n",
    "plt.ylim(0,0.026)\n",
    "plt.grid()\n",
    "plt.show()"
   ]
  },
  {
   "cell_type": "code",
   "execution_count": null,
   "id": "ec1274cd",
   "metadata": {},
   "outputs": [],
   "source": []
  },
  {
   "cell_type": "code",
   "execution_count": 11,
   "id": "e9998bf7",
   "metadata": {},
   "outputs": [],
   "source": [
    "E = np.arange( 0, 16, 0.1) # observed energy, units of keV_ee\n",
    "# E = np.logspace(-2,4, 100)\n",
    "mX = 1*GeV; sig = 1e-36; VelDist = Dist3\n",
    "\n",
    "res  = [integrate.quad(lambda E2: Det.Res(e,E2) ,0 ,Det.Emax()*2, points = Det.ROI(), limit=int(1e8))[0] for e in E]\n",
    "effs = [Det.Eff(e) for e in E]\n",
    "true = [Det.dRdE_True(e,Model3.dRdER, mX=mX, sig=sig, VelDist=Dist3, NR=False) for e in E]\n"
   ]
  },
  {
   "cell_type": "code",
   "execution_count": 12,
   "id": "f1e639ac",
   "metadata": {},
   "outputs": [
    {
     "data": {
      "image/png": "[encoded data removed]",
      "text/plain": [
       "<Figure size 640x480 with 1 Axes>"
      ]
     },
     "metadata": {},
     "output_type": "display_data"
    }
   ],
   "source": [
    "plt.plot(E, np.array(true))#*effs*res)\n",
    "# plt.plot(E, np.array(trueIo))#*effs*res)\n",
    "# plt.plot(E, np.array(trueNA))#*effs*res)\n",
    "# plt.plot(E, np.array(dRdE)*effs)\n",
    "# plt.xlim(0,16)\n",
    "plt.xscale('log')\n",
    "plt.yscale('log')\n",
    "# plt.ylim(0,0.026)"
   ]
  },
  {
   "cell_type": "code",
   "execution_count": null,
   "id": "6826d424",
   "metadata": {},
   "outputs": [],
   "source": []
  },
  {
   "cell_type": "code",
   "execution_count": null,
   "id": "e98f30ef",
   "metadata": {},
   "outputs": [],
   "source": [
    "import tqdm.autonotebook as tqdm\n",
    "E = [0.5]\n",
    "dRdE = []\n",
    "for e in tqdm.tqdm(E):\n",
    "    dRdE .append(Det.dRdE(e,Model3.dRdER, mX=mX, sig=sig, VelDist=Dist3, NR=False))\n"
   ]
  },
  {
   "cell_type": "code",
   "execution_count": null,
   "id": "d7f375fd",
   "metadata": {},
   "outputs": [],
   "source": [
    "E = np.logspace(-3,1, base=10, num=100)\n",
    "# plt.plot(E, [Model3.dRdER(Det.Nuclei()[0], e, mX, sig, VelDist) for e in E])#*effs*res)\n",
    "# plt.plot(E, [Det.dRdE_True(e,Model3.dRdER, mX=mX, sig=sig, VelDist=Dist3, NR=False) for e in E])#*effs*res)\n",
    "plt.plot(E, [Det.dRdE(e,Model3.dRdER, mX=mX, sig=sig, VelDist=Dist3, NR=False) for e in E])#*effs*res)\n",
    "# plt.plot(E, np.array(trueIo))#*effs*res)\n",
    "# plt.plot(E, np.array(trueNA))#*effs*res)\n",
    "# plt.plot(E, np.array(dRdE)*effs)\n",
    "# plt.xlim(0,16)\n",
    "plt.xscale('log')\n",
    "plt.yscale('log')\n",
    "# plt.ylim(0,0.026)"
   ]
  },
  {
   "cell_type": "code",
   "execution_count": null,
   "id": "0e83948f",
   "metadata": {},
   "outputs": [],
   "source": [
    "# E = np.arange(0,16,0.1) # observed energy, units of keV_ee\n",
    "# plt.plot(E,[Det.dRdE(e,Model1.dRdER,mX=62*GeV,sig=1.1E-41,VelDist=Dist) for e in E]) ## note here you can pass the model variables as kwargs\n",
    "# plt.plot(E,[Det.dRdE(e,Model1.dRdER,mX=62*GeV,sig=1.1E-41,VelDist=Dist2) for e in E]) ## note here you can pass the model variables as kwargs\n",
    "# plt.legend([\"SHM\",\"SHM+Shards\"])\n",
    "# plt.ylabel(r\"Observation rate [cpd/kg/keV$_{\\rm ee}$]\")\n",
    "# plt.xlabel(r\"Energy [keV$_{\\rm ee}$]\")\n",
    "# plt.xlim(0,16)\n",
    "# plt.ylim(0,0.026)\n",
    "# plt.grid()\n",
    "# plt.show()"
   ]
  },
  {
   "cell_type": "code",
   "execution_count": null,
   "id": "aa92e3b2",
   "metadata": {},
   "outputs": [],
   "source": [
    "E = np.arange(0,16,0.01) # observed energy, units of keV_ee\n",
    "plt.plot(E,[Det.dRdE_True(e,Model3.dRdER,mX=1*GeV,sig=1.1E-36,VelDist=Dist3, NR=False) for e in E]) ## note here you can pass the model variables as kwargs\n",
    "plt.plot(E,[DetNA.dRdE_True(e,Model3.dRdER,mX=1*GeV,sig=1.1E-36,VelDist=Dist3, NR=False) for e in E]) ## note here you can pass the model variables as kwargs\n",
    "plt.plot(E,[DetI.dRdE_True(e,Model3.dRdER,mX=1*GeV,sig=1.1E-36,VelDist=Dist3, NR=False) for e in E]) ## note here you can pass the model variables as kwargs\n",
    "# plt.plot(E,[Det.dRdE(e,Model1.dRdER,mX=62*GeV,sig=1.1E-41,VelDist=Dist2) for e in E]) ## note here you can pass the model variables as kwargs\n",
    "plt.legend([\"AvSHM\"])\n",
    "plt.ylabel(r\"Observation rate [cpd/kg/keV$_{\\rm ee}$]\")\n",
    "plt.xlabel(r\"Energy [keV$_{\\rm ee}$]\")\n",
    "# plt.xlim(0,16)\n",
    "plt.xscale('log')\n",
    "plt.yscale('log')\n",
    "plt.ylim(1e-3,1e1)\n",
    "plt.grid()\n",
    "plt.show()"
   ]
  },
  {
   "cell_type": "code",
   "execution_count": null,
   "id": "47ab754a",
   "metadata": {},
   "outputs": [],
   "source": []
  }
 ],
 "metadata": {
  "kernelspec": {
   "display_name": "Python 3 (ipykernel)",
   "language": "python",
   "name": "python3"
  },
  "language_info": {
   "codemirror_mode": {
    "name": "ipython",
    "version": 3
   },
   "file_extension": ".py",
   "mimetype": "text/x-python",
   "name": "python",
   "nbconvert_exporter": "python",
   "pygments_lexer": "ipython3",
   "version": "3.11.6"
  }
 },
 "nbformat": 4,
 "nbformat_minor": 5
}
