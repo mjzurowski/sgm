{
 "cells": [
  {
   "cell_type": "code",
   "execution_count": 1,
   "id": "9fde4594",
   "metadata": {},
   "outputs": [],
   "source": [
    "import numpy as np\n",
    "import scipy.integrate as integrate\n",
    "import matplotlib.pyplot as plt\n",
    "%matplotlib inline\n",
    "\n",
    "from models.wimp import SIWIMP\n",
    "from detectors.nai import DAMA\n",
    "from veldists import VelDist"
   ]
  },
  {
   "cell_type": "code",
   "execution_count": 2,
   "id": "bd93c66c",
   "metadata": {},
   "outputs": [],
   "source": [
    "Det = DAMA()\n",
    "Model = SIWIMP()\n",
    "Dist = VelDist(\"modgSHM\",0.3)"
   ]
  },
  {
   "cell_type": "code",
   "execution_count": 3,
   "id": "b960d688",
   "metadata": {},
   "outputs": [],
   "source": [
    "## Lets choose a DM particle and compare to the spectra I get in Fig. 6.39\n",
    "E = np.arange(0,100,0.1)\n",
    "mX = 10.8E9 # eV\n",
    "sig = 2*1.8E-40 # cm2   ## Extra factor of 2 is to get from sigma_p (reported in my thesis) and sigma_N (what is assumed for this calc)\n",
    "def DMRate(T,E):\n",
    "    return Model.dRdER(T,mX,E,sig,Dist)"
   ]
  },
  {
   "cell_type": "code",
   "execution_count": 4,
   "id": "f1630efa",
   "metadata": {},
   "outputs": [
    {
     "name": "stderr",
     "output_type": "stream",
     "text": [
      "/Users/madeleinezurowski/Documents/sensitivity_dev/sgm/detector.py:98: IntegrationWarning: The occurrence of roundoff error is detected, which prevents \n",
      "  the requested tolerance from being achieved.  The error may be \n",
      "  underestimated.\n",
      "  integral = integrate.quad(lambda E2: self.dRdE_True(Model,E2)*self.Res(E,E2),0,2*self.Emax(),points=self.ROI(),limit=int(1E8))[0] ## this integral could probs be optimised\n"
     ]
    },
    {
     "data": {
      "image/png": "[encoded data removed]",
      "text/plain": [
       "<Figure size 432x288 with 1 Axes>"
      ]
     },
     "metadata": {
      "needs_background": "light"
     },
     "output_type": "display_data"
    }
   ],
   "source": [
    "plt.plot(E,[Det.dRdE(DMRate,e)*23/(127+23) for e in E])\n",
    "plt.xlim(0,16)\n",
    "plt.ylim(0,0.026)\n",
    "plt.grid()\n",
    "plt.show()"
   ]
  },
  {
   "cell_type": "code",
   "execution_count": null,
   "id": "0b8d2705",
   "metadata": {},
   "outputs": [],
   "source": []
  }
 ],
 "metadata": {
  "kernelspec": {
   "display_name": "Python 3 (ipykernel)",
   "language": "python",
   "name": "python3"
  },
  "language_info": {
   "codemirror_mode": {
    "name": "ipython",
    "version": 3
   },
   "file_extension": ".py",
   "mimetype": "text/x-python",
   "name": "python",
   "nbconvert_exporter": "python",
   "pygments_lexer": "ipython3",
   "version": "3.9.7"
  }
 },
 "nbformat": 4,
 "nbformat_minor": 5
}
