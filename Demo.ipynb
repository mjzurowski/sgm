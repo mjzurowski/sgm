{
 "cells": [
  {
   "cell_type": "code",
   "execution_count": 1,
   "id": "f9729a3f",
   "metadata": {},
   "outputs": [],
   "source": [
    "import numpy as np\n",
    "import scipy.integrate as integrate\n",
    "import matplotlib.pyplot as plt\n",
    "%matplotlib inline\n",
    "\n",
    "from models.wimp import SIWIMP\n",
    "from models.migdal import MIGDAL\n",
    "from models.wimp import SIWIMP_Helm\n",
    "from detectors.nai import DAMA\n",
    "from veldists import VelDist\n",
    "from constants import *"
   ]
  },
  {
   "cell_type": "code",
   "execution_count": 2,
   "id": "b3106a22",
   "metadata": {},
   "outputs": [],
   "source": [
    "## Step 1\n",
    "Det = DAMA()\n",
    "Model = MIGDAL() #SIWIMP()\n",
    "Dist = VelDist(\"avSHM\",0.3) # standard halo model\n",
    "Dist2 = VelDist(\"modShards\",0.3) # standard halo model + shards"
   ]
  },
  {
   "cell_type": "code",
   "execution_count": 17,
   "id": "386b1a8c",
   "metadata": {},
   "outputs": [
    {
     "name": "stdout",
     "output_type": "stream",
     "text": [
      "vmin [61624.38903710741, 61624.43639280861, 61624.437629369466, 61624.43913614178]\n",
      "gdist [0.0, 0.0, 0.0, 0.0]\n",
      "prob [[1.0767179087524104e-11, 4.042913213396593e-13, 2.4036170877434417e-13, 1.1946017952741634e-14], [0.0, 1.2161443855936328e-10, 4.957979299972056e-10, 4.502167364273961e-12], [0.0, 1.783568684540122e-10, 8.823072316373048e-10, 7.292970582173856e-12], [0.0, 2.9860948032362095e-10, 2.0105120829488655e-09, 1.479772532562769e-11]]\n"
     ]
    },
    {
     "data": {
      "text/plain": [
       "([0.0, 0.0, 0.0, 0.0],\n",
       " [[1.0767179087524104e-11,\n",
       "   4.042913213396593e-13,\n",
       "   2.4036170877434417e-13,\n",
       "   1.1946017952741634e-14],\n",
       "  [0.0, 1.2161443855936328e-10, 4.957979299972056e-10, 4.502167364273961e-12],\n",
       "  [0.0, 1.783568684540122e-10, 8.823072316373048e-10, 7.292970582173856e-12],\n",
       "  [0.0,\n",
       "   2.9860948032362095e-10,\n",
       "   2.0105120829488655e-09,\n",
       "   1.479772532562769e-11]])"
      ]
     },
     "execution_count": 17,
     "metadata": {},
     "output_type": "execute_result"
    }
   ],
   "source": [
    "## Step 2\n",
    "mX = 62*GeV # eV\n",
    "sig = 1.1E-41 # cm2 note this is here sigma_p (see thesis notes for explanation)\n",
    "\n",
    "def DMRate(T,E):\n",
    "    ## DM rate defined with SHM\n",
    "    return Model.dRdER(T,mX,E,sig,Dist)\n",
    "\n",
    "def DMRate2(T,E):\n",
    "    ## DM rate defined with SHM+Shards\n",
    "    return Model.dRdER(T,mX,E,sig,Dist2) "
   ]
  },
  {
   "cell_type": "code",
   "execution_count": null,
   "id": "33960647",
   "metadata": {},
   "outputs": [],
   "source": [
    "# ## Step 3\n",
    "# E = np.arange(0,16,0.1) # observed energy, units of keV_ee\n",
    "# plt.plot(E,[Det.dRdE(DMRate,e) for e in E])\n",
    "# # plt.plot(E,[Det.dRdE(DMRate2,e) for e in E])\n",
    "# plt.legend([\"SHM\",\"SHM+Shards\"])\n",
    "# plt.ylabel(r\"Observation rate [cpd/kg/keV$_{\\rm ee}$]\")\n",
    "# plt.xlabel(r\"Energy [keV$_{\\rm ee}$]\")\n",
    "# plt.xlim(0,16)\n",
    "# plt.ylim(0,0.026)\n",
    "# plt.grid()\n",
    "# plt.show()"
   ]
  },
  {
   "cell_type": "code",
   "execution_count": 13,
   "id": "0e83948f",
   "metadata": {},
   "outputs": [
    {
     "data": {
      "text/plain": [
       "[[1.5894153999985545e-12,\n",
       "  5.41191153241933e-13,\n",
       "  3.4897060572852545e-13,\n",
       "  1.5902735231863446e-14],\n",
       " [0.0, 5.1134120999997095e-11, 7.3116908518842855e-09, 4.3732380523686635e-11],\n",
       " [0.0, 0.0, 7.487436600000107e-10, 1.2827941409250873e-10],\n",
       " [0.0, 0.0, 0.0, 3.7596444999999865e-11]]"
      ]
     },
     "execution_count": 13,
     "metadata": {},
     "output_type": "execute_result"
    }
   ],
   "source": [
    " a[1]"
   ]
  },
  {
   "cell_type": "code",
   "execution_count": null,
   "id": "ad94376e",
   "metadata": {},
   "outputs": [],
   "source": []
  }
 ],
 "metadata": {
  "kernelspec": {
   "display_name": "Python 3 (ipykernel)",
   "language": "python",
   "name": "python3"
  },
  "language_info": {
   "codemirror_mode": {
    "name": "ipython",
    "version": 3
   },
   "file_extension": ".py",
   "mimetype": "text/x-python",
   "name": "python",
   "nbconvert_exporter": "python",
   "pygments_lexer": "ipython3",
   "version": "3.11.6"
  }
 },
 "nbformat": 4,
 "nbformat_minor": 5
}
