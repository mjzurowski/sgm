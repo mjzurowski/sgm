{
 "cells": [
  {
   "cell_type": "code",
   "execution_count": null,
   "id": "f9729a3f",
   "metadata": {
    "tags": []
   },
   "outputs": [],
   "source": [
    "import numpy as np\n",
    "import scipy.integrate as integrate\n",
    "import matplotlib.pyplot as plt\n",
    "\n",
    "from models.bsw import PseudoscalarBSW, VectorBSW\n",
    "from detectors.sabre import SABRE\n",
    "from constants import *\n",
    "\n",
    "import multihist as mh\n",
    "import pickle as pkl"
   ]
  },
  {
   "cell_type": "code",
   "execution_count": null,
   "id": "b3106a22",
   "metadata": {
    "tags": []
   },
   "outputs": [],
   "source": [
    "Det = SABRE()\n",
    "Pseudoscalar = PseudoscalarBSW()\n",
    "Vector = VectorBSW()"
   ]
  },
  {
   "cell_type": "code",
   "execution_count": null,
   "id": "540e4978-e680-4bfa-bc81-1619dc23d6ff",
   "metadata": {},
   "outputs": [],
   "source": [
    "masses_keV = np.linspace(250, 1000, 12)\n",
    "masses_keV = np.array([int(m) for m in masses_keV])\n",
    "\n",
    "ref_gae = 1e-12\n",
    "ref_kappa = 1e-12"
   ]
  },
  {
   "cell_type": "code",
   "execution_count": null,
   "id": "33960647",
   "metadata": {
    "tags": []
   },
   "outputs": [],
   "source": [
    "for mass in masses_keV:\n",
    "    energy_edges = np.arange(200., 1105., 5.)\n",
    "    rate_edges = np.array([Det.dRdE_True(mass, Pseudoscalar.dRdER, NR=False, mX=mass * keV, g_ae=ref_gae)\n",
    "                           * Det.Res(e, mass) for e in energy_edges])\n",
    "    rate_centers = 0.5 * (rate_edges[1:] + rate_edges[:-1])\n",
    "    hist = mh.Histdd.from_histogram(histogram=rate_centers, bin_edges=[energy_edges])\n",
    "    \n",
    "    pkl.dump(hist, open(f'BSW_{mass}.pkl', 'wb'))"
   ]
  },
  {
   "cell_type": "code",
   "execution_count": null,
   "id": "b0f1811b-bf9e-4ace-a95e-3d99a2dfbff2",
   "metadata": {},
   "outputs": [],
   "source": [
    "for mass in masses_keV:\n",
    "    energy_edges = np.arange(200., 1105., 5.)\n",
    "    rate_edges = np.array([Det.dRdE_True(mass, Vector.dRdER, NR=False, mX=mass * keV, kappa=ref_kappa)\n",
    "                           * Det.Res(e, mass) for e in energy_edges])\n",
    "    rate_centers = 0.5 * (rate_edges[1:] + rate_edges[:-1])\n",
    "    hist = mh.Histdd.from_histogram(histogram=rate_centers, bin_edges=[energy_edges])\n",
    "    \n",
    "    pkl.dump(hist, open(f'BSW_{mass}.pkl', 'wb'))"
   ]
  },
  {
   "cell_type": "code",
   "execution_count": null,
   "id": "dd7c4062",
   "metadata": {},
   "outputs": [],
   "source": []
  }
 ],
 "metadata": {
  "kernelspec": {
   "display_name": "flamedisx",
   "language": "python",
   "name": "flamedisx"
  },
  "language_info": {
   "codemirror_mode": {
    "name": "ipython",
    "version": 3
   },
   "file_extension": ".py",
   "mimetype": "text/x-python",
   "name": "python",
   "nbconvert_exporter": "python",
   "pygments_lexer": "ipython3",
   "version": "3.11.5"
  }
 },
 "nbformat": 4,
 "nbformat_minor": 5
}
